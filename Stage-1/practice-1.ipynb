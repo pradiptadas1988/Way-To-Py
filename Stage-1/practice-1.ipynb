{
 "cells": [
  {
   "cell_type": "code",
   "id": "2e8cdee1-6b14-4a0f-8cc4-9c41a2ddbf07",
   "metadata": {
    "jupyter": {
     "is_executing": true
    }
   },
   "source": [
    "def user_input():\n",
    "    user_choice = ''\n",
    "    acceptable_range = range(0,10)\n",
    "    within_range = False\n",
    "\n",
    "    while user_choice.isdigit() == False or within_range == False:\n",
    "        user_choice = input('Please enter a number: ')\n",
    "\n",
    "        #digit check\n",
    "        if user_choice.isdigit() == False:\n",
    "            print('Sorry, {} is not a  digit!! '.format(user_choice))\n",
    "            \n",
    "        #range check\n",
    "        else:\n",
    "            if int(user_choice) in acceptable_range:\n",
    "                within_range = True\n",
    "            else:\n",
    "                print('Not in range (0-10) ')\n",
    "                within_range = False\n",
    "            \n",
    "    return int(user_choice)"
   ],
   "outputs": [],
   "execution_count": null
  },
  {
   "cell_type": "code",
   "execution_count": 5,
   "id": "3af2d1c4-5fa1-4a90-8d6c-18c1f491f604",
   "metadata": {},
   "outputs": [
    {
     "name": "stdin",
     "output_type": "stream",
     "text": [
      "Please enter a number:  a\n"
     ]
    },
    {
     "name": "stdout",
     "output_type": "stream",
     "text": [
      "Sorry, a is not a  digit!! \n"
     ]
    },
    {
     "name": "stdin",
     "output_type": "stream",
     "text": [
      "Please enter a number:  1\n"
     ]
    },
    {
     "data": {
      "text/plain": [
       "1"
      ]
     },
     "execution_count": 5,
     "metadata": {},
     "output_type": "execute_result"
    }
   ],
   "source": [
    "user_input()"
   ]
  },
  {
   "cell_type": "code",
   "execution_count": null,
   "id": "e3c02fa4-19c0-4972-9d93-4aa83613e709",
   "metadata": {},
   "outputs": [],
   "source": []
  }
 ],
 "metadata": {
  "kernelspec": {
   "display_name": "Python 3 (ipykernel)",
   "language": "python",
   "name": "python3"
  },
  "language_info": {
   "codemirror_mode": {
    "name": "ipython",
    "version": 3
   },
   "file_extension": ".py",
   "mimetype": "text/x-python",
   "name": "python",
   "nbconvert_exporter": "python",
   "pygments_lexer": "ipython3",
   "version": "3.11.7"
  }
 },
 "nbformat": 4,
 "nbformat_minor": 5
}
