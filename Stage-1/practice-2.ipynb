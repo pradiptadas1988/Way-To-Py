{
 "cells": [
  {
   "cell_type": "code",
   "execution_count": 21,
   "id": "4e3ac690-bf1a-4d4c-bca7-bdbb72e9b788",
   "metadata": {},
   "outputs": [],
   "source": [
    "def user_input():\n",
    "    user_choice = ''\n",
    "    acceptable_range = range(0,11)\n",
    "    within_range = False\n",
    "    \n",
    "    while user_choice.isdigit() == False or within_range == False:\n",
    "        user_choice = input('Please enter a number (1-10): ')\n",
    "        \n",
    "        if user_choice.isdigit() == False:\n",
    "            print('Sorry!! {} is not a digit.'.format(user_choice))\n",
    "\n",
    "        else:\n",
    "            if int(user_choice) in acceptable_range:\n",
    "                within_range = True\n",
    "\n",
    "            else:\n",
    "                print('{} is not in range!!'.format(user_choice))\n",
    "\n",
    "    print(type(int(user_choice)))\n",
    "            \n",
    "    return int(user_choice)        \n",
    "    "
   ]
  },
  {
   "cell_type": "code",
   "execution_count": 19,
   "id": "d7ebf3c5-0f77-47ec-9d40-f4d422ddd71e",
   "metadata": {},
   "outputs": [
    {
     "name": "stdin",
     "output_type": "stream",
     "text": [
      "Please enter a number (1-10):  a\n"
     ]
    },
    {
     "name": "stdout",
     "output_type": "stream",
     "text": [
      "Sorry!! a is not a digit.\n"
     ]
    },
    {
     "name": "stdin",
     "output_type": "stream",
     "text": [
      "Please enter a number (1-10):  12\n"
     ]
    },
    {
     "name": "stdout",
     "output_type": "stream",
     "text": [
      "12 is not in range!!\n"
     ]
    },
    {
     "name": "stdin",
     "output_type": "stream",
     "text": [
      "Please enter a number (1-10):  10\n"
     ]
    },
    {
     "name": "stdout",
     "output_type": "stream",
     "text": [
      "10 is not in range!!\n"
     ]
    },
    {
     "name": "stdin",
     "output_type": "stream",
     "text": [
      "Please enter a number (1-10):  0\n"
     ]
    },
    {
     "name": "stdout",
     "output_type": "stream",
     "text": [
      "<class 'int'>\n"
     ]
    },
    {
     "data": {
      "text/plain": [
       "0"
      ]
     },
     "execution_count": 19,
     "metadata": {},
     "output_type": "execute_result"
    }
   ],
   "source": [
    "user_input()"
   ]
  },
  {
   "cell_type": "code",
   "execution_count": null,
   "id": "e662e48d-5e90-4f2c-8824-d6fb90d5b5e0",
   "metadata": {},
   "outputs": [],
   "source": []
  }
 ],
 "metadata": {
  "kernelspec": {
   "display_name": "Python 3 (ipykernel)",
   "language": "python",
   "name": "python3"
  },
  "language_info": {
   "codemirror_mode": {
    "name": "ipython",
    "version": 3
   },
   "file_extension": ".py",
   "mimetype": "text/x-python",
   "name": "python",
   "nbconvert_exporter": "python",
   "pygments_lexer": "ipython3",
   "version": "3.11.7"
  }
 },
 "nbformat": 4,
 "nbformat_minor": 5
}
