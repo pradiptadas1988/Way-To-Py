{
 "cells": [
  {
   "cell_type": "code",
   "execution_count": 33,
   "id": "7f9b3069-ea67-4b07-b7f2-68521ac6d227",
   "metadata": {},
   "outputs": [],
   "source": [
    "my_list = ['','','']"
   ]
  },
  {
   "cell_type": "code",
   "execution_count": 9,
   "id": "8c0e8de4-84c9-4872-8f2d-4af4c856430c",
   "metadata": {},
   "outputs": [],
   "source": [
    "def display_game(list):\n",
    "    print('Here is the current list:')\n",
    "    print(list)"
   ]
  },
  {
   "cell_type": "code",
   "execution_count": 11,
   "id": "79f24359-55ec-4a43-b4bd-6207a844ee8d",
   "metadata": {},
   "outputs": [
    {
     "name": "stdout",
     "output_type": "stream",
     "text": [
      "Here is the current list:\n",
      "[0, 1, 2]\n"
     ]
    }
   ],
   "source": [
    "display_game(my_list)"
   ]
  },
  {
   "cell_type": "code",
   "execution_count": 93,
   "id": "fc08cb10-6317-49a9-a196-5fe545938590",
   "metadata": {},
   "outputs": [],
   "source": [
    "def position_choice():\n",
    "    choice = 'wrong'\n",
    "    valid_choice = ['0','1','2']\n",
    "\n",
    "    while choice not in valid_choice:\n",
    "        choice = input('Pick a position (0,1,2): ')\n",
    "\n",
    "        if choice not in valid_choice:\n",
    "            print('Not a valid position.')\n",
    "\n",
    "    return int(choice)"
   ]
  },
  {
   "cell_type": "code",
   "execution_count": 15,
   "id": "7b16cd04-5574-47ef-9645-33b9505eae8e",
   "metadata": {},
   "outputs": [
    {
     "name": "stdin",
     "output_type": "stream",
     "text": [
      "Pick a position (0,1,2):  12\n"
     ]
    },
    {
     "name": "stdout",
     "output_type": "stream",
     "text": [
      "Not a valid choice.\n"
     ]
    },
    {
     "name": "stdin",
     "output_type": "stream",
     "text": [
      "Pick a position (0,1,2):  a\n"
     ]
    },
    {
     "name": "stdout",
     "output_type": "stream",
     "text": [
      "Not a valid choice.\n"
     ]
    },
    {
     "name": "stdin",
     "output_type": "stream",
     "text": [
      "Pick a position (0,1,2):  1\n"
     ]
    },
    {
     "data": {
      "text/plain": [
       "1"
      ]
     },
     "execution_count": 15,
     "metadata": {},
     "output_type": "execute_result"
    }
   ],
   "source": [
    "position_choice()"
   ]
  },
  {
   "cell_type": "code",
   "execution_count": 77,
   "id": "1d932f97-d66b-47dd-9539-ab79d37d1103",
   "metadata": {},
   "outputs": [],
   "source": [
    "def replacement_choice(game_list, replacement_position):\n",
    "\n",
    "    user_choice = input('Please input the replacement choice: ')\n",
    "\n",
    "    game_list[replacement_position] = user_choice\n",
    "\n",
    "    print('New list: {}'.format(game_list))\n",
    "\n",
    "    #return game_list"
   ]
  },
  {
   "cell_type": "code",
   "execution_count": 95,
   "id": "062e6c66-872f-40e5-9db0-ee03de54b714",
   "metadata": {},
   "outputs": [],
   "source": [
    "def display_game(list):\n",
    "    print('Here is the current list:')\n",
    "    print(list)\n",
    "    data = position_choice()\n",
    "    replacement_choice(list, data)"
   ]
  },
  {
   "cell_type": "code",
   "execution_count": 97,
   "id": "e79ec901-6caf-4e64-8a7f-fc0666cf9975",
   "metadata": {},
   "outputs": [
    {
     "name": "stdout",
     "output_type": "stream",
     "text": [
      "Here is the current list:\n",
      "['0', '1', '2']\n"
     ]
    },
    {
     "name": "stdin",
     "output_type": "stream",
     "text": [
      "Pick a position (0,1,2):  12\n"
     ]
    },
    {
     "name": "stdout",
     "output_type": "stream",
     "text": [
      "Not a valid position.\n"
     ]
    },
    {
     "name": "stdin",
     "output_type": "stream",
     "text": [
      "Pick a position (0,1,2):  0\n",
      "Please input the replacement choice:  h\n"
     ]
    },
    {
     "name": "stdout",
     "output_type": "stream",
     "text": [
      "New list: ['h', '1', '2']\n"
     ]
    }
   ],
   "source": [
    "display_game(my_list)"
   ]
  },
  {
   "cell_type": "code",
   "execution_count": 125,
   "id": "0a0de748-e51c-4f3a-ba3e-c36b481f0081",
   "metadata": {},
   "outputs": [],
   "source": [
    "def game_on_choice():\n",
    "    choice = 'wrong'\n",
    "    valid_choice = ['Y', 'N']\n",
    "\n",
    "    while choice not in valid_choice:\n",
    "        choice = input('You want to continue in game (Y or N):').upper()\n",
    "\n",
    "        if choice not in valid_choice:\n",
    "            print('Please select Y or N')\n",
    "\n",
    "    if choice == 'Y':\n",
    "        return True\n",
    "\n",
    "    else:\n",
    "        return False\n",
    "\n",
    "    "
   ]
  },
  {
   "cell_type": "code",
   "execution_count": 127,
   "id": "6e6f1851-bc78-4081-92f8-c2b8887d8367",
   "metadata": {},
   "outputs": [
    {
     "name": "stdin",
     "output_type": "stream",
     "text": [
      "You want to continue in game (Y or N): N\n"
     ]
    },
    {
     "data": {
      "text/plain": [
       "False"
      ]
     },
     "execution_count": 127,
     "metadata": {},
     "output_type": "execute_result"
    }
   ],
   "source": [
    "game_on_choice()"
   ]
  },
  {
   "cell_type": "code",
   "execution_count": 129,
   "id": "bc562966-0e12-4896-853a-1ae4a2325f44",
   "metadata": {},
   "outputs": [],
   "source": [
    "def display_game(list):\n",
    "    print('Here is the current list:')\n",
    "    print(list)\n",
    "    data = position_choice()\n",
    "    replacement_choice(list, data)\n",
    "    isContinue = game_on_choice()\n",
    "    if isContinue:\n",
    "        display_game(list)"
   ]
  },
  {
   "cell_type": "code",
   "execution_count": 133,
   "id": "c02c2710-34d3-440c-8288-f000b7e3b432",
   "metadata": {},
   "outputs": [
    {
     "name": "stdout",
     "output_type": "stream",
     "text": [
      "Here is the current list:\n",
      "['0', '1', '2']\n"
     ]
    },
    {
     "name": "stdin",
     "output_type": "stream",
     "text": [
      "Pick a position (0,1,2):  2\n",
      "Please input the replacement choice:  12\n"
     ]
    },
    {
     "name": "stdout",
     "output_type": "stream",
     "text": [
      "New list: ['0', '1', '12']\n"
     ]
    },
    {
     "name": "stdin",
     "output_type": "stream",
     "text": [
      "You want to continue in game (Y or N): Y\n"
     ]
    },
    {
     "name": "stdout",
     "output_type": "stream",
     "text": [
      "Here is the current list:\n",
      "['0', '1', '12']\n"
     ]
    },
    {
     "name": "stdin",
     "output_type": "stream",
     "text": [
      "Pick a position (0,1,2):  1\n",
      "Please input the replacement choice:  10\n"
     ]
    },
    {
     "name": "stdout",
     "output_type": "stream",
     "text": [
      "New list: ['0', '10', '12']\n"
     ]
    },
    {
     "name": "stdin",
     "output_type": "stream",
     "text": [
      "You want to continue in game (Y or N): N\n"
     ]
    }
   ],
   "source": [
    "display_game(my_list)"
   ]
  },
  {
   "cell_type": "code",
   "execution_count": null,
   "id": "04625791-f299-4ed2-8cee-8e33ab4dedef",
   "metadata": {},
   "outputs": [],
   "source": []
  }
 ],
 "metadata": {
  "kernelspec": {
   "display_name": "Python 3 (ipykernel)",
   "language": "python",
   "name": "python3"
  },
  "language_info": {
   "codemirror_mode": {
    "name": "ipython",
    "version": 3
   },
   "file_extension": ".py",
   "mimetype": "text/x-python",
   "name": "python",
   "nbconvert_exporter": "python",
   "pygments_lexer": "ipython3",
   "version": "3.11.7"
  }
 },
 "nbformat": 4,
 "nbformat_minor": 5
}
