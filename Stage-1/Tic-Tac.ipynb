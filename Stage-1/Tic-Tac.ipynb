{
 "cells": [
  {
   "cell_type": "code",
   "execution_count": 33,
   "id": "7f9b3069-ea67-4b07-b7f2-68521ac6d227",
   "metadata": {},
   "outputs": [],
   "source": [
    "my_list = ['','','']"
   ]
  },
  {
   "cell_type": "code",
   "execution_count": 9,
   "id": "8c0e8de4-84c9-4872-8f2d-4af4c856430c",
   "metadata": {},
   "outputs": [],
   "source": [
    "def display_game(list):\n",
    "    print('Here is the current list:')\n",
    "    print(list)"
   ]
  },
  {
   "cell_type": "code",
   "execution_count": 11,
   "id": "79f24359-55ec-4a43-b4bd-6207a844ee8d",
   "metadata": {},
   "outputs": [
    {
     "name": "stdout",
     "output_type": "stream",
     "text": [
      "Here is the current list:\n",
      "[0, 1, 2]\n"
     ]
    }
   ],
   "source": [
    "display_game(my_list)"
   ]
  },
  {
   "cell_type": "code",
   "execution_count": 13,
   "id": "fc08cb10-6317-49a9-a196-5fe545938590",
   "metadata": {},
   "outputs": [],
   "source": [
    "def position_choice():\n",
    "    choice = 'wrong'\n",
    "    valid_choice = ['0','1','2']\n",
    "\n",
    "    while choice not in valid_choice:\n",
    "        choice = input('Pick a position (0,1,2): ')\n",
    "\n",
    "        if choice not in valid_choice:\n",
    "            print('Not a valid choice.')\n",
    "\n",
    "    return int(choice)"
   ]
  },
  {
   "cell_type": "code",
   "execution_count": 15,
   "id": "7b16cd04-5574-47ef-9645-33b9505eae8e",
   "metadata": {},
   "outputs": [
    {
     "name": "stdin",
     "output_type": "stream",
     "text": [
      "Pick a position (0,1,2):  12\n"
     ]
    },
    {
     "name": "stdout",
     "output_type": "stream",
     "text": [
      "Not a valid choice.\n"
     ]
    },
    {
     "name": "stdin",
     "output_type": "stream",
     "text": [
      "Pick a position (0,1,2):  a\n"
     ]
    },
    {
     "name": "stdout",
     "output_type": "stream",
     "text": [
      "Not a valid choice.\n"
     ]
    },
    {
     "name": "stdin",
     "output_type": "stream",
     "text": [
      "Pick a position (0,1,2):  1\n"
     ]
    },
    {
     "data": {
      "text/plain": [
       "1"
      ]
     },
     "execution_count": 15,
     "metadata": {},
     "output_type": "execute_result"
    }
   ],
   "source": [
    "position_choice()"
   ]
  },
  {
   "cell_type": "code",
   "execution_count": 69,
   "id": "1d932f97-d66b-47dd-9539-ab79d37d1103",
   "metadata": {},
   "outputs": [],
   "source": [
    "def replacement_choice(game_list, replacement_position):\n",
    "\n",
    "    user_choice = input('Please input the replacement choice: ')\n",
    "\n",
    "    game_list[replacement_position] = user_choice\n",
    "\n",
    "    #print('New list: {}'.format(game_list))\n",
    "\n",
    "    return game_list"
   ]
  },
  {
   "cell_type": "code",
   "execution_count": 71,
   "id": "062e6c66-872f-40e5-9db0-ee03de54b714",
   "metadata": {},
   "outputs": [],
   "source": [
    "def display_game(list):\n",
    "    print('Here is the current list:')\n",
    "    print(list)\n",
    "    data = position_choice()\n",
    "    replacement_choice(my_list, data)"
   ]
  },
  {
   "cell_type": "code",
   "execution_count": 73,
   "id": "e79ec901-6caf-4e64-8a7f-fc0666cf9975",
   "metadata": {},
   "outputs": [
    {
     "name": "stdout",
     "output_type": "stream",
     "text": [
      "Here is the current list:\n",
      "['0 index', 'new second', 'new third']\n"
     ]
    },
    {
     "name": "stdin",
     "output_type": "stream",
     "text": [
      "Pick a position (0,1,2):  1\n",
      "Please input the replacement choice:  1 index\n"
     ]
    }
   ],
   "source": [
    "display_game(my_list)"
   ]
  },
  {
   "cell_type": "code",
   "execution_count": null,
   "id": "0a0de748-e51c-4f3a-ba3e-c36b481f0081",
   "metadata": {},
   "outputs": [],
   "source": []
  }
 ],
 "metadata": {
  "kernelspec": {
   "display_name": "Python 3 (ipykernel)",
   "language": "python",
   "name": "python3"
  },
  "language_info": {
   "codemirror_mode": {
    "name": "ipython",
    "version": 3
   },
   "file_extension": ".py",
   "mimetype": "text/x-python",
   "name": "python",
   "nbconvert_exporter": "python",
   "pygments_lexer": "ipython3",
   "version": "3.11.7"
  }
 },
 "nbformat": 4,
 "nbformat_minor": 5
}
