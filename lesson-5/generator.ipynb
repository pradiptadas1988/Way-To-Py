{
 "cells": [
  {
   "cell_type": "code",
   "execution_count": 12,
   "id": "285e1783-08ae-4bd8-b4e4-8eb66a5e8361",
   "metadata": {},
   "outputs": [],
   "source": [
    "def my_cubes(n):\n",
    "    result = []\n",
    "    for x in range(n):\n",
    "        result.append(x**3)\n",
    "    return result\n"
   ]
  },
  {
   "cell_type": "code",
   "execution_count": 14,
   "id": "67579816-4135-47b8-aa1f-844104852983",
   "metadata": {},
   "outputs": [
    {
     "data": {
      "text/plain": [
       "[0, 1, 8, 27]"
      ]
     },
     "execution_count": 14,
     "metadata": {},
     "output_type": "execute_result"
    }
   ],
   "source": [
    "my_cubes(4)"
   ]
  },
  {
   "cell_type": "code",
   "execution_count": 16,
   "id": "a04f64ec-d77c-48c7-8dc1-ded48b31294b",
   "metadata": {},
   "outputs": [
    {
     "name": "stdout",
     "output_type": "stream",
     "text": [
      "0\n",
      "1\n",
      "8\n",
      "27\n"
     ]
    }
   ],
   "source": [
    "for x in my_cubes(4):\n",
    "    print(x)"
   ]
  },
  {
   "cell_type": "code",
   "execution_count": 28,
   "id": "31143e0c-e7ae-455f-a25e-09c90341d6b8",
   "metadata": {},
   "outputs": [],
   "source": [
    "def my_generator_cubes(n):\n",
    "    for x in range(n):\n",
    "        yield x**3"
   ]
  },
  {
   "cell_type": "code",
   "execution_count": 30,
   "id": "7d922d99-3c7b-44d1-95f0-6be8609fbc51",
   "metadata": {},
   "outputs": [
    {
     "name": "stdout",
     "output_type": "stream",
     "text": [
      "0\n",
      "1\n",
      "8\n",
      "27\n"
     ]
    }
   ],
   "source": [
    "for x in my_generator_cubes(4):\n",
    "    print(x)"
   ]
  },
  {
   "cell_type": "code",
   "execution_count": 34,
   "id": "cf47ca2b-e757-4452-895e-c00761962d02",
   "metadata": {},
   "outputs": [
    {
     "data": {
      "text/plain": [
       "[0, 1, 8, 27]"
      ]
     },
     "execution_count": 34,
     "metadata": {},
     "output_type": "execute_result"
    }
   ],
   "source": [
    "list(my_generator_cubes(4))"
   ]
  },
  {
   "cell_type": "code",
   "execution_count": null,
   "id": "3f1434d9-22eb-49e3-87ab-a6f5a1623181",
   "metadata": {},
   "outputs": [],
   "source": []
  },
  {
   "cell_type": "code",
   "execution_count": null,
   "id": "2458367d-7807-4ef0-b6e1-94e3e12ee815",
   "metadata": {},
   "outputs": [],
   "source": []
  },
  {
   "cell_type": "code",
   "execution_count": null,
   "id": "a083fa18-e29f-4774-9d00-3b632271fc64",
   "metadata": {},
   "outputs": [],
   "source": []
  },
  {
   "cell_type": "code",
   "execution_count": null,
   "id": "26e4e6ba-21ee-41a7-93e7-c8064b758aa4",
   "metadata": {},
   "outputs": [],
   "source": []
  },
  {
   "cell_type": "code",
   "execution_count": 36,
   "id": "9d251ee1-69b7-4cd5-800f-d24098143ada",
   "metadata": {},
   "outputs": [],
   "source": [
    "def my_fibonacci(n):\n",
    "    a = 1\n",
    "    b = 1\n",
    "    result = []\n",
    "    for x in range(n):\n",
    "        result.append(a)\n",
    "        a,b = b,a+b\n",
    "    return result"
   ]
  },
  {
   "cell_type": "code",
   "execution_count": 44,
   "id": "df1e192a-d61a-4a8a-9bae-4cf07ce9813b",
   "metadata": {},
   "outputs": [
    {
     "data": {
      "text/plain": [
       "[1, 1, 2, 3, 5, 8, 13]"
      ]
     },
     "execution_count": 44,
     "metadata": {},
     "output_type": "execute_result"
    }
   ],
   "source": [
    "my_fibonacci(7)"
   ]
  },
  {
   "cell_type": "code",
   "execution_count": 46,
   "id": "64b7447d-8d86-4bb0-9c5b-65179afa150f",
   "metadata": {},
   "outputs": [],
   "source": [
    "def my_fibonacci(n):\n",
    "    a = 1\n",
    "    b = 1\n",
    "    \n",
    "    for x in range(n):\n",
    "        yield a\n",
    "        a,b = b,a+b"
   ]
  },
  {
   "cell_type": "code",
   "execution_count": 48,
   "id": "50438422-5921-41bc-a498-528cc3b29ef4",
   "metadata": {},
   "outputs": [
    {
     "data": {
      "text/plain": [
       "[1, 1, 2, 3, 5, 8, 13]"
      ]
     },
     "execution_count": 48,
     "metadata": {},
     "output_type": "execute_result"
    }
   ],
   "source": [
    "list(my_fibonacci(7))"
   ]
  },
  {
   "cell_type": "code",
   "execution_count": 50,
   "id": "3d1c75af-c200-47d5-9136-5bb8f46eac0b",
   "metadata": {},
   "outputs": [
    {
     "name": "stdout",
     "output_type": "stream",
     "text": [
      "1\n",
      "1\n",
      "2\n",
      "3\n",
      "5\n",
      "8\n",
      "13\n"
     ]
    }
   ],
   "source": [
    "for x in my_fibonacci(7):\n",
    "    print(x)"
   ]
  },
  {
   "cell_type": "code",
   "execution_count": null,
   "id": "c9eaf0f2-45b3-409f-9de1-6bf141019cef",
   "metadata": {},
   "outputs": [],
   "source": []
  },
  {
   "cell_type": "code",
   "execution_count": null,
   "id": "3cfb2134-0566-40b5-853b-cf8615fa0bc8",
   "metadata": {},
   "outputs": [],
   "source": []
  },
  {
   "cell_type": "code",
   "execution_count": null,
   "id": "7c926e76-7fcf-4d86-b14c-e78b82a1a279",
   "metadata": {},
   "outputs": [],
   "source": []
  },
  {
   "cell_type": "code",
   "execution_count": null,
   "id": "ad925cfd-8430-42cc-8f47-6c28f28ff21c",
   "metadata": {},
   "outputs": [],
   "source": []
  },
  {
   "cell_type": "code",
   "execution_count": null,
   "id": "2c3fe594-1683-4822-b49b-c4b7d6de3da1",
   "metadata": {},
   "outputs": [],
   "source": []
  },
  {
   "cell_type": "code",
   "execution_count": 54,
   "id": "59a2614f-f46b-4627-8917-a62caf9183bc",
   "metadata": {},
   "outputs": [],
   "source": [
    "def sample_generator():\n",
    "    for x in range(4):\n",
    "        yield x"
   ]
  },
  {
   "cell_type": "code",
   "execution_count": 56,
   "id": "b5e3143e-02d1-46e5-9be3-668c98c883e8",
   "metadata": {},
   "outputs": [
    {
     "name": "stdout",
     "output_type": "stream",
     "text": [
      "0\n",
      "1\n",
      "2\n",
      "3\n"
     ]
    }
   ],
   "source": [
    "for number in sample_generator():\n",
    "    print(number)"
   ]
  },
  {
   "cell_type": "code",
   "execution_count": 72,
   "id": "8acd8bbc-4456-4637-a1b5-d6b58efce74c",
   "metadata": {},
   "outputs": [],
   "source": [
    "my_gen = sample_generator()"
   ]
  },
  {
   "cell_type": "code",
   "execution_count": 74,
   "id": "5222a4e6-7ffe-4e77-be7a-c74100b4a468",
   "metadata": {},
   "outputs": [
    {
     "data": {
      "text/plain": [
       "0"
      ]
     },
     "execution_count": 74,
     "metadata": {},
     "output_type": "execute_result"
    }
   ],
   "source": [
    "next(my_gen)"
   ]
  },
  {
   "cell_type": "code",
   "execution_count": 76,
   "id": "39f288b6-6426-4568-894c-fc32eec683e6",
   "metadata": {},
   "outputs": [
    {
     "data": {
      "text/plain": [
       "1"
      ]
     },
     "execution_count": 76,
     "metadata": {},
     "output_type": "execute_result"
    }
   ],
   "source": [
    "next(my_gen)"
   ]
  },
  {
   "cell_type": "code",
   "execution_count": 78,
   "id": "6209bd65-b483-4727-95f6-dfeb501db7b9",
   "metadata": {},
   "outputs": [
    {
     "data": {
      "text/plain": [
       "2"
      ]
     },
     "execution_count": 78,
     "metadata": {},
     "output_type": "execute_result"
    }
   ],
   "source": [
    "next(my_gen)"
   ]
  },
  {
   "cell_type": "code",
   "execution_count": 80,
   "id": "fc4709a2-a5b1-40bb-a00f-5b505d54681a",
   "metadata": {},
   "outputs": [
    {
     "data": {
      "text/plain": [
       "3"
      ]
     },
     "execution_count": 80,
     "metadata": {},
     "output_type": "execute_result"
    }
   ],
   "source": [
    "next(my_gen)"
   ]
  },
  {
   "cell_type": "code",
   "execution_count": null,
   "id": "6489c5ab-31b5-4c50-85c2-69b6df412dfc",
   "metadata": {},
   "outputs": [],
   "source": []
  },
  {
   "cell_type": "code",
   "execution_count": null,
   "id": "4681edb0-e0e2-4775-9c26-4f909a0fcbc4",
   "metadata": {},
   "outputs": [],
   "source": []
  },
  {
   "cell_type": "code",
   "execution_count": 82,
   "id": "17e19914-90d9-45c1-956d-68ceeaf73d3d",
   "metadata": {},
   "outputs": [],
   "source": [
    "name = \"praddy\""
   ]
  },
  {
   "cell_type": "code",
   "execution_count": 86,
   "id": "0a22b542-f881-412b-9e69-f216194101f0",
   "metadata": {},
   "outputs": [],
   "source": [
    "s = iter(name)"
   ]
  },
  {
   "cell_type": "code",
   "execution_count": 88,
   "id": "a8f87651-4f22-4500-b2b9-917b4381f4f6",
   "metadata": {},
   "outputs": [
    {
     "data": {
      "text/plain": [
       "'p'"
      ]
     },
     "execution_count": 88,
     "metadata": {},
     "output_type": "execute_result"
    }
   ],
   "source": [
    "next(s)"
   ]
  },
  {
   "cell_type": "code",
   "execution_count": 90,
   "id": "f6ac9674-31a6-4043-9af5-3ee5404587f8",
   "metadata": {},
   "outputs": [
    {
     "data": {
      "text/plain": [
       "'r'"
      ]
     },
     "execution_count": 90,
     "metadata": {},
     "output_type": "execute_result"
    }
   ],
   "source": [
    "next(s)"
   ]
  },
  {
   "cell_type": "code",
   "execution_count": 92,
   "id": "85ef13fe-bc35-4d6b-8be2-b59ba3c70677",
   "metadata": {},
   "outputs": [
    {
     "data": {
      "text/plain": [
       "'a'"
      ]
     },
     "execution_count": 92,
     "metadata": {},
     "output_type": "execute_result"
    }
   ],
   "source": [
    "next(s)"
   ]
  },
  {
   "cell_type": "code",
   "execution_count": 94,
   "id": "4e6bbd29-95af-4841-960c-ff67c4c281c7",
   "metadata": {},
   "outputs": [
    {
     "data": {
      "text/plain": [
       "'d'"
      ]
     },
     "execution_count": 94,
     "metadata": {},
     "output_type": "execute_result"
    }
   ],
   "source": [
    "next(s)"
   ]
  },
  {
   "cell_type": "code",
   "execution_count": 96,
   "id": "5d8f7a41-6103-471f-8483-ee3c228d7643",
   "metadata": {},
   "outputs": [
    {
     "data": {
      "text/plain": [
       "'d'"
      ]
     },
     "execution_count": 96,
     "metadata": {},
     "output_type": "execute_result"
    }
   ],
   "source": [
    "next(s)"
   ]
  },
  {
   "cell_type": "code",
   "execution_count": 98,
   "id": "985b9c7e-834f-4f90-9fe7-805b989bf277",
   "metadata": {},
   "outputs": [
    {
     "data": {
      "text/plain": [
       "'y'"
      ]
     },
     "execution_count": 98,
     "metadata": {},
     "output_type": "execute_result"
    }
   ],
   "source": [
    "next(s)"
   ]
  },
  {
   "cell_type": "code",
   "execution_count": 100,
   "id": "6bd11945-f446-43b2-bc25-f31b04cf94f6",
   "metadata": {},
   "outputs": [
    {
     "ename": "StopIteration",
     "evalue": "",
     "output_type": "error",
     "traceback": [
      "\u001b[0;31m---------------------------------------------------------------------------\u001b[0m",
      "\u001b[0;31mStopIteration\u001b[0m                             Traceback (most recent call last)",
      "Cell \u001b[0;32mIn[100], line 1\u001b[0m\n\u001b[0;32m----> 1\u001b[0m \u001b[38;5;28mnext\u001b[39m(s)\n",
      "\u001b[0;31mStopIteration\u001b[0m: "
     ]
    }
   ],
   "source": [
    "next(s)"
   ]
  },
  {
   "cell_type": "code",
   "execution_count": null,
   "id": "d2db4f04-3214-496d-9c38-bc10b4fc33d6",
   "metadata": {},
   "outputs": [],
   "source": []
  }
 ],
 "metadata": {
  "kernelspec": {
   "display_name": "Python 3 (ipykernel)",
   "language": "python",
   "name": "python3"
  },
  "language_info": {
   "codemirror_mode": {
    "name": "ipython",
    "version": 3
   },
   "file_extension": ".py",
   "mimetype": "text/x-python",
   "name": "python",
   "nbconvert_exporter": "python",
   "pygments_lexer": "ipython3",
   "version": "3.11.7"
  }
 },
 "nbformat": 4,
 "nbformat_minor": 5
}
