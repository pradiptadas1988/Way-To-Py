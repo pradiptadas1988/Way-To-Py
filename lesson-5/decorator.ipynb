{
 "cells": [
  {
   "cell_type": "code",
   "execution_count": 1,
   "id": "ac65b377-716e-4e10-98a1-52e1fc201bf4",
   "metadata": {},
   "outputs": [],
   "source": [
    "def funcOne(name=\"Praddy\"):\n",
    "    print(\"This is func level - 0 funcOne\")\n",
    "\n",
    "    def insideFuncNmbrOne():\n",
    "        print(\"This is inside level - 1 insideFuncNmbrOne\")\n",
    "        \n",
    "    def insideFuncNmbrTwo():\n",
    "        return \"This is inside level - 1 insideFuncNmbrTwo\"\n",
    "\n",
    "    if name == \"Praddy\":\n",
    "        return insideFuncNmbrOne\n",
    "    else:\n",
    "        return insideFuncNmbrTwo"
   ]
  },
  {
   "cell_type": "code",
   "execution_count": 3,
   "id": "cd38e714-7197-4066-996c-16a8fad00081",
   "metadata": {},
   "outputs": [
    {
     "name": "stdout",
     "output_type": "stream",
     "text": [
      "This is func level - 0 funcOne\n"
     ]
    },
    {
     "data": {
      "text/plain": [
       "<function __main__.funcOne.<locals>.insideFuncNmbrOne()>"
      ]
     },
     "execution_count": 3,
     "metadata": {},
     "output_type": "execute_result"
    }
   ],
   "source": [
    "funcOne()"
   ]
  },
  {
   "cell_type": "code",
   "execution_count": 5,
   "id": "83ace9d7-1cc6-4bbb-ac42-78341d2bebbf",
   "metadata": {},
   "outputs": [
    {
     "name": "stdout",
     "output_type": "stream",
     "text": [
      "This is func level - 0 funcOne\n"
     ]
    },
    {
     "data": {
      "text/plain": [
       "<function __main__.funcOne.<locals>.insideFuncNmbrTwo()>"
      ]
     },
     "execution_count": 5,
     "metadata": {},
     "output_type": "execute_result"
    }
   ],
   "source": [
    "funcOne(name=\"Kiddo\")"
   ]
  },
  {
   "cell_type": "code",
   "execution_count": 11,
   "id": "ac28d51b-5dfe-4c2f-9e8a-c61dd9d2bd36",
   "metadata": {},
   "outputs": [
    {
     "name": "stdout",
     "output_type": "stream",
     "text": [
      "This is func level - 0 funcOne\n",
      "<function funcOne.<locals>.insideFuncNmbrOne at 0x10dfb4220>\n"
     ]
    }
   ],
   "source": [
    "print(funcOne())"
   ]
  },
  {
   "cell_type": "code",
   "execution_count": 13,
   "id": "75429d6f-84db-4452-909f-32cd9600c979",
   "metadata": {},
   "outputs": [
    {
     "name": "stdout",
     "output_type": "stream",
     "text": [
      "This is func level - 0 funcOne\n"
     ]
    }
   ],
   "source": [
    "result = funcOne(name=\"Praddy\")"
   ]
  },
  {
   "cell_type": "code",
   "execution_count": 15,
   "id": "b4b86bb0-ca21-49cd-b289-7bb13b6b781d",
   "metadata": {},
   "outputs": [
    {
     "name": "stdout",
     "output_type": "stream",
     "text": [
      "This is inside level - 1 insideFuncNmbrOne\n",
      "None\n"
     ]
    }
   ],
   "source": [
    "print(result())"
   ]
  },
  {
   "cell_type": "code",
   "execution_count": 19,
   "id": "b41e56a8-f9ac-45f5-a4e1-0932635c0828",
   "metadata": {},
   "outputs": [
    {
     "name": "stdout",
     "output_type": "stream",
     "text": [
      "This is outer function\n",
      "This is anotherFunc func\n"
     ]
    }
   ],
   "source": [
    "def outerFunc(innerFunc):\n",
    "    print(\"This is outer function\")\n",
    "\n",
    "    print(innerFunc())\n",
    "\n",
    "def anotherFunc():\n",
    "    return \"This is anotherFunc func\"\n",
    "\n",
    "outerFunc(anotherFunc)"
   ]
  },
  {
   "cell_type": "code",
   "execution_count": null,
   "id": "96453eee-fa8f-443d-8823-dcc2db6d830e",
   "metadata": {},
   "outputs": [],
   "source": []
  },
  {
   "cell_type": "code",
   "execution_count": null,
   "id": "41186a64-d6fc-471d-9efa-542715bcc8a8",
   "metadata": {},
   "outputs": [],
   "source": []
  },
  {
   "cell_type": "code",
   "execution_count": null,
   "id": "6cc90434-2b92-44f8-929b-76a5f5536cd9",
   "metadata": {},
   "outputs": [],
   "source": []
  },
  {
   "cell_type": "code",
   "execution_count": null,
   "id": "434041da-9c04-4294-ba5d-4c331c580033",
   "metadata": {},
   "outputs": [],
   "source": []
  },
  {
   "cell_type": "code",
   "execution_count": 23,
   "id": "efdaa6ee-5142-44f6-bdd0-5c386b08cf46",
   "metadata": {},
   "outputs": [],
   "source": [
    "def new_decorator(param_function):\n",
    "\n",
    "    def wrapper_func():\n",
    "        print(\"Wrap line before\")\n",
    "        param_function()\n",
    "        print(\"Wrap line after\")\n",
    "\n",
    "    return wrapper_func"
   ]
  },
  {
   "cell_type": "code",
   "execution_count": 45,
   "id": "9c506c86-f555-4b6c-85ac-4a276b90e749",
   "metadata": {},
   "outputs": [],
   "source": [
    "@new_decorator\n",
    "def func_need_decorated():\n",
    "    print(\"function main\")\n",
    "    "
   ]
  },
  {
   "cell_type": "code",
   "execution_count": 47,
   "id": "16c61422-441c-4e9c-9427-1e762dd68502",
   "metadata": {},
   "outputs": [
    {
     "name": "stdout",
     "output_type": "stream",
     "text": [
      "Wrap line before\n",
      "function main\n",
      "Wrap line after\n"
     ]
    }
   ],
   "source": [
    "func_need_decorated()"
   ]
  },
  {
   "cell_type": "code",
   "execution_count": null,
   "id": "1cd2ed89-ed3b-4f70-952d-d78a782d32ef",
   "metadata": {},
   "outputs": [],
   "source": []
  }
 ],
 "metadata": {
  "kernelspec": {
   "display_name": "Python 3 (ipykernel)",
   "language": "python",
   "name": "python3"
  },
  "language_info": {
   "codemirror_mode": {
    "name": "ipython",
    "version": 3
   },
   "file_extension": ".py",
   "mimetype": "text/x-python",
   "name": "python",
   "nbconvert_exporter": "python",
   "pygments_lexer": "ipython3",
   "version": "3.11.7"
  }
 },
 "nbformat": 4,
 "nbformat_minor": 5
}
