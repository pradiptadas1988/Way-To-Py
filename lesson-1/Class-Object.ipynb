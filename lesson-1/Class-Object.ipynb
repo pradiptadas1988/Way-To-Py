{
 "cells": [
  {
   "cell_type": "code",
   "execution_count": 186,
   "id": "657d3d62-7af8-4fb6-a19a-8dd012020a52",
   "metadata": {},
   "outputs": [],
   "source": [
    "class Sample():\n",
    "    pass"
   ]
  },
  {
   "cell_type": "code",
   "execution_count": 188,
   "id": "ac4e7210-7640-46fa-82ba-0573401fdcba",
   "metadata": {},
   "outputs": [],
   "source": [
    "my_sample = Sample()"
   ]
  },
  {
   "cell_type": "code",
   "execution_count": 190,
   "id": "d0dcf4f9-5573-4f4d-8b84-de9f9f74c415",
   "metadata": {},
   "outputs": [
    {
     "data": {
      "text/plain": [
       "__main__.Sample"
      ]
     },
     "execution_count": 190,
     "metadata": {},
     "output_type": "execute_result"
    }
   ],
   "source": [
    "type(my_sample)"
   ]
  },
  {
   "cell_type": "code",
   "execution_count": 33,
   "id": "603462a6-2f72-41b4-8265-66ba94521b26",
   "metadata": {},
   "outputs": [],
   "source": [
    "class Cars():\n",
    "    \n",
    "    def __init__(self,brand,color,isImported,price):\n",
    "\n",
    "        #Attribute\n",
    "        #Take attribute in argument\n",
    "        #Assign to self.__attribute__\n",
    "        self.brand = brand\n",
    "        self.color = color\n",
    "        self.isImported = isImported\n",
    "        self.price = price\n",
    "        "
   ]
  },
  {
   "cell_type": "code",
   "execution_count": 27,
   "id": "819a0cad-49b3-4e99-add7-ff7283b8100d",
   "metadata": {},
   "outputs": [],
   "source": [
    "my_car = Cars(brand = 'Merc',color = 'Black',isImported=True,price=5000000)"
   ]
  },
  {
   "cell_type": "code",
   "execution_count": 17,
   "id": "0d5c7e7d-b964-4715-bf02-5f37d663bbf1",
   "metadata": {},
   "outputs": [
    {
     "data": {
      "text/plain": [
       "5000000"
      ]
     },
     "execution_count": 17,
     "metadata": {},
     "output_type": "execute_result"
    }
   ],
   "source": [
    "my_car.brand\n",
    "my_car.color\n",
    "my_car.isImported\n",
    "my_car.price"
   ]
  },
  {
   "cell_type": "code",
   "execution_count": 31,
   "id": "ff7ac51a-cf90-4348-9c96-5d87f38f380e",
   "metadata": {},
   "outputs": [
    {
     "data": {
      "text/plain": [
       "True"
      ]
     },
     "execution_count": 31,
     "metadata": {},
     "output_type": "execute_result"
    }
   ],
   "source": [
    "my_car.isImported"
   ]
  },
  {
   "cell_type": "code",
   "execution_count": 65,
   "id": "170d83ba-812a-4813-bbaf-358da86f3bd7",
   "metadata": {},
   "outputs": [],
   "source": [
    "class Animal():\n",
    "    \n",
    "    isMamal = True\n",
    "\n",
    "    def __init__(self, species, color):\n",
    "        self.species = species\n",
    "        self.color = color\n",
    "\n",
    "    def displayName(self, name):\n",
    "        print('The {} name is {} and its {}'.format(self.species, name, self.color))\n",
    "        \n",
    "    "
   ]
  },
  {
   "cell_type": "code",
   "execution_count": 67,
   "id": "69edc413-d83b-4dce-8e7a-c368b992b196",
   "metadata": {},
   "outputs": [],
   "source": [
    "my_animal = Animal('dog', 'black')"
   ]
  },
  {
   "cell_type": "code",
   "execution_count": 71,
   "id": "40ff6c0c-ab37-43b6-990d-f29a576ef6e1",
   "metadata": {},
   "outputs": [
    {
     "name": "stdout",
     "output_type": "stream",
     "text": [
      "The dog name is frankie and its black\n"
     ]
    }
   ],
   "source": [
    "my_animal.displayName('frankie')"
   ]
  },
  {
   "cell_type": "code",
   "execution_count": 73,
   "id": "32f54a8f-14e2-4c03-8bb8-4549e5e9d9f1",
   "metadata": {},
   "outputs": [],
   "source": [
    "class Circle():\n",
    "\n",
    "    pi = 3.14\n",
    "\n",
    "    def __init__(self, radius=1):\n",
    "        self.radius = radius\n",
    "        self.area = radius**2 * Circle.pi\n",
    "\n",
    "    def get_circumfences(self):\n",
    "        return self.radius * Circle.pi * 2\n",
    "        \n",
    "        "
   ]
  },
  {
   "cell_type": "code",
   "execution_count": 86,
   "id": "3bde5410-3117-4b14-9d88-2157650ce806",
   "metadata": {},
   "outputs": [],
   "source": [
    "my_circle = Circle(10)"
   ]
  },
  {
   "cell_type": "code",
   "execution_count": 92,
   "id": "0e834243-48e6-4c70-bcf3-dd8683e9ae68",
   "metadata": {},
   "outputs": [
    {
     "data": {
      "text/plain": [
       "10"
      ]
     },
     "execution_count": 92,
     "metadata": {},
     "output_type": "execute_result"
    }
   ],
   "source": [
    "my_circle.radius"
   ]
  },
  {
   "cell_type": "code",
   "execution_count": 194,
   "id": "16477fd2-e839-41c1-b175-9464013f57e6",
   "metadata": {},
   "outputs": [],
   "source": [
    "class Animal():\n",
    "    def __init__(self):\n",
    "        print('Animal created.')\n",
    "\n",
    "    def eat(self):\n",
    "        print('Animal eating.')\n",
    "\n",
    "    def name(self, name):\n",
    "        print('The name is {}'.format(name))"
   ]
  },
  {
   "cell_type": "code",
   "execution_count": 196,
   "id": "4348e2af-63a2-4c1f-b2dc-ecfa58c5eb93",
   "metadata": {},
   "outputs": [
    {
     "name": "stdout",
     "output_type": "stream",
     "text": [
      "Animal created.\n"
     ]
    }
   ],
   "source": [
    "my_animal = Animal()"
   ]
  },
  {
   "cell_type": "code",
   "execution_count": 35,
   "id": "1da50731-e613-4b14-81da-476a925b97bb",
   "metadata": {},
   "outputs": [
    {
     "name": "stdout",
     "output_type": "stream",
     "text": [
      "Animal eating.\n"
     ]
    }
   ],
   "source": [
    "my_animal.eat()"
   ]
  },
  {
   "cell_type": "code",
   "execution_count": 198,
   "id": "a38b2fca-bc89-49ba-a831-46a9bad45db6",
   "metadata": {},
   "outputs": [
    {
     "name": "stdout",
     "output_type": "stream",
     "text": [
      "The name is Huskie\n"
     ]
    }
   ],
   "source": [
    "my_animal.name('Huskie')"
   ]
  },
  {
   "cell_type": "code",
   "execution_count": 210,
   "id": "8f595ca4-214d-40da-a396-1f246fc6a212",
   "metadata": {},
   "outputs": [],
   "source": [
    "class Dog(Animal):\n",
    "    def __init__(self):\n",
    "        Animal.__init__(self)\n",
    "        print('Dog created')\n",
    "\n",
    "    def eat(self):\n",
    "        print('Dog is eating')\n",
    "\n",
    "    "
   ]
  },
  {
   "cell_type": "code",
   "execution_count": 212,
   "id": "68976041-4b97-4b3f-b30f-ae51ed992a61",
   "metadata": {},
   "outputs": [
    {
     "name": "stdout",
     "output_type": "stream",
     "text": [
      "Animal created.\n",
      "Dog created\n"
     ]
    }
   ],
   "source": [
    "my_dog = Dog()"
   ]
  },
  {
   "cell_type": "code",
   "execution_count": 214,
   "id": "0f3af690-b4cd-47d7-9cd5-3db53040125f",
   "metadata": {},
   "outputs": [
    {
     "name": "stdout",
     "output_type": "stream",
     "text": [
      "Dog is eating\n"
     ]
    }
   ],
   "source": [
    "my_dog.eat()"
   ]
  },
  {
   "cell_type": "code",
   "execution_count": 216,
   "id": "8cedbcb2-1058-4103-81aa-a82349705d77",
   "metadata": {},
   "outputs": [
    {
     "name": "stdout",
     "output_type": "stream",
     "text": [
      "Animal eating.\n"
     ]
    }
   ],
   "source": [
    "my_animal.eat()"
   ]
  },
  {
   "cell_type": "code",
   "execution_count": 218,
   "id": "899e6d50-d1ba-4621-a5e1-d44112159f79",
   "metadata": {},
   "outputs": [
    {
     "name": "stdout",
     "output_type": "stream",
     "text": [
      "The name is Frankie\n"
     ]
    }
   ],
   "source": [
    "my_dog.name('Frankie')"
   ]
  },
  {
   "cell_type": "code",
   "execution_count": 220,
   "id": "158111f4-94ae-4342-a38a-53aefdfde686",
   "metadata": {},
   "outputs": [],
   "source": [
    "class Animal():\n",
    "    def __init__(self):\n",
    "        print('Animal created.')\n",
    "\n",
    "    def name(self, name):\n",
    "        print('The name is {}'.format(name))\n",
    "    \n",
    "    def eat(self):\n",
    "        print('Animal eating.')"
   ]
  },
  {
   "cell_type": "code",
   "execution_count": 222,
   "id": "75baca6c-7072-4421-aa63-c24fab7deb24",
   "metadata": {},
   "outputs": [],
   "source": [
    "class Dog(Animal):\n",
    "    def __init__(self):\n",
    "        Animal.__init__(self)\n",
    "        print('Dog created')\n",
    "\n",
    "    def eat(self):\n",
    "        print('Dog is eating')"
   ]
  },
  {
   "cell_type": "code",
   "execution_count": 224,
   "id": "23926b1c-2793-45c2-8d12-dfed15eb7ddb",
   "metadata": {},
   "outputs": [
    {
     "name": "stdout",
     "output_type": "stream",
     "text": [
      "Animal created.\n"
     ]
    }
   ],
   "source": [
    "my_animal = Animal()"
   ]
  },
  {
   "cell_type": "code",
   "execution_count": 226,
   "id": "f7b508ec-d07d-4d7d-900b-363aabf345da",
   "metadata": {},
   "outputs": [
    {
     "name": "stdout",
     "output_type": "stream",
     "text": [
      "Animal eating.\n"
     ]
    }
   ],
   "source": [
    "my_animal.eat()"
   ]
  },
  {
   "cell_type": "code",
   "execution_count": 65,
   "id": "75d458ba-4667-4006-ad51-e777bafed9c2",
   "metadata": {},
   "outputs": [
    {
     "name": "stdout",
     "output_type": "stream",
     "text": [
      "Animal created.\n",
      "Dog created\n"
     ]
    }
   ],
   "source": [
    "my_dog = Dog()"
   ]
  },
  {
   "cell_type": "code",
   "execution_count": 73,
   "id": "d661c99f-345b-4120-9243-bd0dd175f062",
   "metadata": {},
   "outputs": [
    {
     "name": "stdout",
     "output_type": "stream",
     "text": [
      "<class '__main__.Animal'>\n",
      "Animal eating.\n",
      "None\n",
      "<class '__main__.Dog'>\n",
      "Dog is eating\n",
      "None\n"
     ]
    }
   ],
   "source": [
    "for pet in [my_animal,my_dog]:\n",
    "    print(type(pet))\n",
    "    print(pet.eat())"
   ]
  },
  {
   "cell_type": "code",
   "execution_count": 228,
   "id": "35db7f4a-a6f1-46b8-b546-289d7998967f",
   "metadata": {},
   "outputs": [],
   "source": [
    "def pet_eat(pet):\n",
    "    print(pet.eat())"
   ]
  },
  {
   "cell_type": "code",
   "execution_count": 230,
   "id": "8c6e997a-0e5a-4754-a82e-74a8e486b236",
   "metadata": {},
   "outputs": [
    {
     "name": "stdout",
     "output_type": "stream",
     "text": [
      "Animal eating.\n",
      "None\n"
     ]
    }
   ],
   "source": [
    "pet_eat(my_animal)"
   ]
  },
  {
   "cell_type": "code",
   "execution_count": 232,
   "id": "e004dbaa-c006-4965-8267-2fad3a89b1cc",
   "metadata": {},
   "outputs": [
    {
     "name": "stdout",
     "output_type": "stream",
     "text": [
      "Dog is eating\n",
      "None\n"
     ]
    }
   ],
   "source": [
    "pet_eat(my_dog)"
   ]
  },
  {
   "cell_type": "code",
   "execution_count": 176,
   "id": "afe558b4-5769-409f-b2b5-d0cab024b025",
   "metadata": {},
   "outputs": [],
   "source": [
    "class Book():\n",
    "\n",
    "    def __init__(self, author, name, pages):\n",
    "        self.name = name\n",
    "        self.author = author\n",
    "        self.pages = pages\n",
    "\n",
    "    def __str__(self):\n",
    "        return f'{self.name} is written by {self.author}'\n",
    "\n",
    "    def __len__(self):\n",
    "        return self.pages\n",
    "\n",
    "    def __del__(self):\n",
    "        print('The book is deleted')\n"
   ]
  },
  {
   "cell_type": "code",
   "execution_count": 178,
   "id": "4b5ba1eb-04bd-4f68-bc9a-1e03635f3aa6",
   "metadata": {},
   "outputs": [],
   "source": [
    "my_book = Book('Praddy', 'Peace',100)"
   ]
  },
  {
   "cell_type": "code",
   "execution_count": 180,
   "id": "b60518a3-4a2a-4d46-8596-d3407bc2f0af",
   "metadata": {},
   "outputs": [
    {
     "name": "stdout",
     "output_type": "stream",
     "text": [
      "Peace is written by Praddy\n"
     ]
    }
   ],
   "source": [
    "print(my_book)"
   ]
  },
  {
   "cell_type": "code",
   "execution_count": 182,
   "id": "943c2491-f0f7-4653-bac2-67b2c1e9a73e",
   "metadata": {},
   "outputs": [
    {
     "data": {
      "text/plain": [
       "100"
      ]
     },
     "execution_count": 182,
     "metadata": {},
     "output_type": "execute_result"
    }
   ],
   "source": [
    "len(my_book)"
   ]
  },
  {
   "cell_type": "code",
   "execution_count": 184,
   "id": "a02255c7-8e83-4a9c-bc0c-31a048ca0ca3",
   "metadata": {},
   "outputs": [
    {
     "name": "stdout",
     "output_type": "stream",
     "text": [
      "The book is deleted\n"
     ]
    }
   ],
   "source": [
    "del my_book"
   ]
  },
  {
   "cell_type": "code",
   "execution_count": null,
   "id": "94060c8d-8ad4-4e11-90c3-6851df1aa30e",
   "metadata": {},
   "outputs": [],
   "source": []
  }
 ],
 "metadata": {
  "kernelspec": {
   "display_name": "Python 3 (ipykernel)",
   "language": "python",
   "name": "python3"
  },
  "language_info": {
   "codemirror_mode": {
    "name": "ipython",
    "version": 3
   },
   "file_extension": ".py",
   "mimetype": "text/x-python",
   "name": "python",
   "nbconvert_exporter": "python",
   "pygments_lexer": "ipython3",
   "version": "3.11.7"
  }
 },
 "nbformat": 4,
 "nbformat_minor": 5
}
