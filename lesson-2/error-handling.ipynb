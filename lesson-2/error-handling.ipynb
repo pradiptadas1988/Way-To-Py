{
 "cells": [
  {
   "cell_type": "code",
   "execution_count": 1,
   "id": "2274077c-86fd-4856-972c-2e9671c94514",
   "metadata": {},
   "outputs": [
    {
     "name": "stdin",
     "output_type": "stream",
     "text": [
      "Please enter number:  a\n"
     ]
    },
    {
     "name": "stdout",
     "output_type": "stream",
     "text": [
      "Oopss..Wrong entry!\n",
      "At end will execute always.\n"
     ]
    }
   ],
   "source": [
    "try:\n",
    "    user_data = int(input(\"Please enter number: \"))\n",
    "    print(user_data)\n",
    "except:\n",
    "    print(\"Oopss..Wrong entry!\")\n",
    "finally:\n",
    "    print(\"At end will execute always.\")"
   ]
  },
  {
   "cell_type": "code",
   "execution_count": 5,
   "id": "72a76159-31fc-4651-b3b6-9ed884a8be95",
   "metadata": {},
   "outputs": [],
   "source": [
    "def int_input():\n",
    "    while True:\n",
    "        try:\n",
    "            user_data = int(input(\"Please enter number: \"))\n",
    "            print(user_data)\n",
    "        except:\n",
    "            print(\"Oopss..Wrong entry!\")\n",
    "            continue\n",
    "        else:\n",
    "            print(\"Great!! Thank you!\")\n",
    "            break\n",
    "        finally:\n",
    "            print(\"At end will execute always.\")"
   ]
  },
  {
   "cell_type": "code",
   "execution_count": 7,
   "id": "7f449c66-c9b2-489f-9ffc-3226339736e9",
   "metadata": {},
   "outputs": [
    {
     "name": "stdin",
     "output_type": "stream",
     "text": [
      "Please enter number:  a\n"
     ]
    },
    {
     "name": "stdout",
     "output_type": "stream",
     "text": [
      "Oopss..Wrong entry!\n",
      "At end will execute always.\n"
     ]
    },
    {
     "name": "stdin",
     "output_type": "stream",
     "text": [
      "Please enter number:  1\n"
     ]
    },
    {
     "name": "stdout",
     "output_type": "stream",
     "text": [
      "1\n",
      "Great!! Thank you!\n",
      "At end will execute always.\n"
     ]
    }
   ],
   "source": [
    "int_input()"
   ]
  },
  {
   "cell_type": "code",
   "execution_count": 29,
   "id": "f3edbd8e-c7eb-47eb-ac89-bb79a8062088",
   "metadata": {},
   "outputs": [],
   "source": [
    "def file_operation_func():\n",
    "    # while True:\n",
    "        try:\n",
    "            my_file = open('testfile', 'r')\n",
    "            my_file.write(\"Written. Welcome.\")\n",
    "        except OSError:\n",
    "            print(\"Oopss..OSError error\")\n",
    "        except:\n",
    "            print(\"Oopss..Other error\")\n",
    "        finally:\n",
    "            print(\"At end will execute always.\")"
   ]
  },
  {
   "cell_type": "code",
   "execution_count": 31,
   "id": "8d3356a1-b201-4c67-801c-eb33fedb320f",
   "metadata": {},
   "outputs": [
    {
     "name": "stdout",
     "output_type": "stream",
     "text": [
      "Oopss..OSError error\n",
      "At end will execute always.\n"
     ]
    }
   ],
   "source": [
    "file_operation_func()"
   ]
  },
  {
   "cell_type": "code",
   "execution_count": 25,
   "id": "59f81613-019a-47b3-aa53-c15e920ffd32",
   "metadata": {},
   "outputs": [],
   "source": [
    "def file_operation_func():\n",
    "    # while True:\n",
    "        try:\n",
    "            my_file = open('testfile', 'r')\n",
    "            my_file.write(\"Written. Welcome.\")\n",
    "        except TypeError:\n",
    "            print(\"Oopss..TypeError error\")\n",
    "        except:\n",
    "            print(\"Oopss..Other error\")\n",
    "        finally:\n",
    "            print(\"At end will execute always.\")"
   ]
  },
  {
   "cell_type": "code",
   "execution_count": null,
   "id": "abeccda4-3362-4adc-89a3-0e0aa1197936",
   "metadata": {},
   "outputs": [],
   "source": []
  }
 ],
 "metadata": {
  "kernelspec": {
   "display_name": "Python 3 (ipykernel)",
   "language": "python",
   "name": "python3"
  },
  "language_info": {
   "codemirror_mode": {
    "name": "ipython",
    "version": 3
   },
   "file_extension": ".py",
   "mimetype": "text/x-python",
   "name": "python",
   "nbconvert_exporter": "python",
   "pygments_lexer": "ipython3",
   "version": "3.11.7"
  }
 },
 "nbformat": 4,
 "nbformat_minor": 5
}
